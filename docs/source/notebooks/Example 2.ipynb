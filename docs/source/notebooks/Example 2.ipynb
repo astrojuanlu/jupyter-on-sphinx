{
 "cells": [
  {
   "cell_type": "markdown",
   "id": "d6534f52-a7bd-4a68-bb80-b70b663eee7d",
   "metadata": {},
   "source": [
    "# Interactive widgets\n",
    "\n",
    "Example that renders an interactive widget."
   ]
  },
  {
   "cell_type": "code",
   "execution_count": 1,
   "id": "866cfc78-69bc-4872-8503-0c45e765070d",
   "metadata": {},
   "outputs": [],
   "source": [
    "import ipywidgets as ipyw"
   ]
  },
  {
   "cell_type": "code",
   "execution_count": 2,
   "id": "d2f5cd64-218f-48b0-86f0-a9f354bcce06",
   "metadata": {},
   "outputs": [
    {
     "data": {
      "application/vnd.jupyter.widget-view+json": {
       "model_id": "c4ba3664a12f479586198ec93a0e30ab",
       "version_major": 2,
       "version_minor": 0
      },
      "text/plain": [
       "IntSlider(value=5, max=10)"
      ]
     },
     "metadata": {},
     "output_type": "display_data"
    }
   ],
   "source": [
    "slider = ipyw.IntSlider(min=0, value=5, max=10)\n",
    "slider"
   ]
  },
  {
   "cell_type": "code",
   "execution_count": 3,
   "id": "9f8a9dd2-2f58-42b3-9963-8959693d9d5b",
   "metadata": {},
   "outputs": [
    {
     "data": {
      "application/vnd.jupyter.widget-view+json": {
       "model_id": "c4ba3664a12f479586198ec93a0e30ab",
       "version_major": 2,
       "version_minor": 0
      },
      "text/plain": [
       "IntSlider(value=5, max=10)"
      ]
     },
     "metadata": {},
     "output_type": "display_data"
    }
   ],
   "source": [
    "slider"
   ]
  }
 ],
 "metadata": {
  "kernelspec": {
   "display_name": "Python 3",
   "language": "python",
   "name": "python3"
  },
  "language_info": {
   "codemirror_mode": {
    "name": "ipython",
    "version": 3
   },
   "file_extension": ".py",
   "mimetype": "text/x-python",
   "name": "python",
   "nbconvert_exporter": "python",
   "pygments_lexer": "ipython3",
   "version": "3.9.5"
  },
  "widgets": {
   "application/vnd.jupyter.widget-state+json": {
    "state": {
     "1649703c16f34588aed7263031c3dc16": {
      "model_module": "@jupyter-widgets/controls",
      "model_module_version": "1.5.0",
      "model_name": "SliderStyleModel",
      "state": {
       "description_width": ""
      }
     },
     "c4ba3664a12f479586198ec93a0e30ab": {
      "model_module": "@jupyter-widgets/controls",
      "model_module_version": "1.5.0",
      "model_name": "IntSliderModel",
      "state": {
       "layout": "IPY_MODEL_ca0d51cdf4164e45a5458c56a6e9c3e9",
       "max": 10,
       "style": "IPY_MODEL_1649703c16f34588aed7263031c3dc16",
       "value": 5
      }
     },
     "ca0d51cdf4164e45a5458c56a6e9c3e9": {
      "model_module": "@jupyter-widgets/base",
      "model_module_version": "1.2.0",
      "model_name": "LayoutModel",
      "state": {}
     }
    },
    "version_major": 2,
    "version_minor": 0
   }
  }
 },
 "nbformat": 4,
 "nbformat_minor": 5
}
